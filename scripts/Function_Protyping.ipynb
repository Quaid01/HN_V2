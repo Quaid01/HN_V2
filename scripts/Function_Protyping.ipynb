{
 "cells": [
  {
   "cell_type": "markdown",
   "id": "4348a3cd-5e87-4e7b-ba3e-1c73bbd78a7c",
   "metadata": {},
   "source": [
    "# Building Functions\n",
    "\n",
    "Here is my little playground to start writing proper functions for HN"
   ]
  },
  {
   "cell_type": "code",
   "execution_count": 38,
   "id": "6691fe33-65a8-40ab-abe4-15c28998a9ab",
   "metadata": {},
   "outputs": [
    {
     "name": "stdout",
     "output_type": "stream",
     "text": [
      "Currently active project is: HN_V2\n",
      "\n",
      "Path of active project: /Users/quaidzahid/Documents/Research Professor/Mikhail Erementchouk/HN_V2\n",
      "\n",
      "Have fun with your new project!\n",
      "\n",
      "You can help us improve DrWatson by opening\n",
      "issues on GitHub, submitting feature requests,\n",
      "or even opening your own Pull Requests!\n",
      "\n"
     ]
    },
    {
     "name": "stderr",
     "output_type": "stream",
     "text": [
      "WARNING: using DataRefine.save_trajectories in module Main conflicts with an existing identifier.\n"
     ]
    }
   ],
   "source": [
    "using Graphs\n",
    "using SimpleWeightedGraphs\n",
    "using Dice \n",
    "using PrettyTables\n",
    "include(\"intro.jl\")\n",
    "using DataRefine\n",
    "\n",
    "using GraphPlot"
   ]
  },
  {
   "cell_type": "code",
   "execution_count": 1,
   "id": "6386f2e0-6d26-48ed-8b3a-4135f212972a",
   "metadata": {},
   "outputs": [
    {
     "data": {
      "text/plain": [
       "get_HN_graph (generic function with 1 method)"
      ]
     },
     "execution_count": 1,
     "metadata": {},
     "output_type": "execute_result"
    }
   ],
   "source": [
    "function get_HN_graph(images ::Vector{Matrix{Int}},\n",
    "                                scale ::Float64) ::SimpleWeightedGraph\n",
    "    part_data = vec(images[1]) # Column major vector, columns are coancenated one after the other\n",
    "    # part data only used to determine the number of entries in matrix\n",
    "    # We assume that all images are of the same dimension here\n",
    "    graph_set = SimpleWeightedGraph(length(part_data))\n",
    "        \n",
    "    for og in range(1,length(part_data) - 1)\n",
    "        for term in range(og+1,length(part_data))\n",
    "            # EDIT HERE, i is origin, j is end. We need to do this multiplication for every image\n",
    "            # og and term give the values of column major, but that should not affect anything\n",
    "            w = 0\n",
    "            for i in images\n",
    "                w += i[og] * (i[term]) / 1\n",
    "            end\n",
    "            add_edge!(graph_set, og, term, w)\n",
    "        end\n",
    "    end\n",
    "    return graph_set\n",
    "end"
   ]
  },
  {
   "cell_type": "code",
   "execution_count": 3,
   "id": "d2dc38c1-5ae1-4b83-83bf-248256f043f2",
   "metadata": {},
   "outputs": [
    {
     "data": {
      "text/plain": [
       "save_trajectories (generic function with 1 method)"
      ]
     },
     "execution_count": 3,
     "metadata": {},
     "output_type": "execute_result"
    }
   ],
   "source": [
    "function save_trajectories(traj_collection::Vector{Vector{Hybrid}},\n",
    "                           prefix::String,\n",
    "                           suffix::String)\n",
    "    # Save the trajectories in the Spin Reader format\n",
    "    # traj_collection is a collection of trajectories collected after\n",
    "    # agitations. We save each agitation in a separate file.\n",
    "    for (ind, traj) in enumerate(traj_collection)\n",
    "        out_file_name = prefix * \"_$(ind)_\" * suffix * \".dat\"\n",
    "        open(out_file_name, \"w\") do outf\n",
    "            for (t, state) in enumerate(traj)\n",
    "                print(outf, \"$t\")\n",
    "                for (s, x) in zip(state[1], state[2])\n",
    "                    print(outf, \" $s $x\")\n",
    "                end\n",
    "                println(outf, \"\")\n",
    "            end\n",
    "        end\n",
    "        println(\"File $out_file_name is generated\")\n",
    "    end\n",
    "    \n",
    "end"
   ]
  },
  {
   "cell_type": "code",
   "execution_count": 7,
   "id": "d5fd96eb-0e2b-4b75-bf7a-d2d37aa0e7d5",
   "metadata": {},
   "outputs": [
    {
     "data": {
      "text/plain": [
       "Dict{String, Any} with 7 entries:\n",
       "  \"images\"          => [[-1 1 … 1 -1; 1 -1 … -1 1; … ; 1 -1 … -1 1; -1 1 … 1 -1…\n",
       "  \"scaling\"         => 1.0\n",
       "  \"iterations\"      => 1\n",
       "  \"steps\"           => 1500\n",
       "  \"initial_stimuli\" => [(2, 2, -1)]\n",
       "  \"sim_time\"        => 4\n",
       "  \"delta\"           => -0.00266667"
      ]
     },
     "execution_count": 7,
     "metadata": {},
     "output_type": "execute_result"
    }
   ],
   "source": [
    "#= template\n",
    "\n",
    "image = [\n",
    "    1 1 1 1 1;\n",
    "    1 1 1 1 1;\n",
    "    1 1 1 1 1;\n",
    "    1 1 1 1 1;\n",
    "    1 1 1 1 1;\n",
    "] \n",
    "=#\n",
    "i1 = [\n",
    "    -1 1 1 1 -1;\n",
    "    1 -1 1 -1 1;\n",
    "    1 1 -1 1 1;\n",
    "    1 -1 1 -1 1;\n",
    "    -1 1 1 1 -1;\n",
    "] \n",
    "\n",
    "i2 = [\n",
    "    1 1 -1 1 1;\n",
    "    1 -1 -1 -1 1;\n",
    "    -1 -1 -1 -1 -1;\n",
    "    1 -1 -1 -1 1;\n",
    "    1 1 -1 1 1;\n",
    "] \n",
    "\n",
    "i3 = [\n",
    "    1 -1 1 -1 1;\n",
    "    -1 -1 -1 -1 -1;\n",
    "    1 -1 1 -1 1;\n",
    "    -1 -1 -1 -1 -1;\n",
    "    1 -1 1 -1 1;\n",
    "] \n",
    "\n",
    "# Params \n",
    "# Take image matrix and turn it into a vector with the rows being coancenated at their endpoints\n",
    "# ex: [row1,row2,row3]\n",
    "\n",
    "sim_time = 4\n",
    "steps = 1500\n",
    "parameters = Dict{String, Any}(\n",
    "    \"images\" => [i1,i2],\n",
    "    \"sim_time\" => sim_time,\n",
    "    \"steps\" => steps,\n",
    "    \"iterations\" => 1, #Num of times attempted\n",
    "    #\"num_agitations\" => 1, no agitations needed\n",
    "    \"scaling\" => 1.0,\n",
    "    \"delta\" => -1* sim_time/steps,\n",
    "    # This is the region that we will provide and the machine must keep this region constant\n",
    "    # Will be a vector of tuples which are (row, col, state)\n",
    "    \"initial_stimuli\" => [(2,2,-1)]\n",
    ")"
   ]
  },
  {
   "cell_type": "code",
   "execution_count": 33,
   "id": "6de4bdf7-f4c9-4d07-a791-532b4fc6d0c2",
   "metadata": {},
   "outputs": [
    {
     "data": {
      "text/plain": [
       "HN_Solver (generic function with 2 methods)"
      ]
     },
     "execution_count": 33,
     "metadata": {},
     "output_type": "execute_result"
    }
   ],
   "source": [
    "function HN_Solver(parameters::Dict{String, Any}, debug::Bool = false)\n",
    "    # Just gets raw result, no visualizer\n",
    "\n",
    "    scaling = parameters[\"scaling\"] #Scaling coeff\n",
    "    S = parameters[\"images\"] # Images\n",
    "    time_total= parameters[\"sim_time\"] # how long the sim is\n",
    "    num_steps = parameters[\"steps\"] # number of steps in the sim\n",
    "    delta_t = parameters[\"delta\"] # dt\n",
    "\n",
    "    # Make Graph\n",
    "    graph_set = get_HN_graph(S, scaling)\n",
    "    \n",
    "    # Making model\n",
    "    model = Dice.Model(graph_set, Dice.model_2_hybrid_coupling, delta_t)\n",
    "\n",
    "    # Making randomized initial state\n",
    "    num_vertices = Graphs.nv(model.graph)\n",
    "    \n",
    "    converged = 0\n",
    "    diverged = 0\n",
    "\n",
    "    for _ in 1:parameters[\"iterations\"]\n",
    "        pinned::Vector{Tuple{Int64, Int8}} = []\n",
    "        state::Dice.Hybrid = Dice.get_random_hybrid(num_vertices, 2.0)\n",
    "        #println(reshape(state[1],size(parameters[\"images\"][1],1),size(parameters[\"images\"][1],1)))\n",
    "        for stim in parameters[\"initial_stimuli\"]\n",
    "            # Every n entries is a column, thus taking # of columns and subtracting 1 brings you to where the column begins\n",
    "            # Adding 1 will bring you to the first entry in the column and so on for +k\n",
    "            pos = (stim[2]-1) * size(parameters[\"images\"][1],1) + stim[1]\n",
    "            state[1][pos] = stim[3]\n",
    "            push!(pinned, (pos, stim[3]))\n",
    "        end\n",
    "        #println(state[1]\n",
    "        state = Dice.propagate_pinned(model.graph, num_steps, delta_t, model.coupling, state, pinned)\n",
    "        # Comment out the other part of the or conditional to ignore negative images\n",
    "        if (reshape(state[1],size(parameters[\"images\"][1],1),size(parameters[\"images\"][1],1)) in parameters[\"images\"] ||\n",
    "        -1 .*reshape(state[1],size(parameters[\"images\"][1],1),size(parameters[\"images\"][1],1)) in parameters[\"images\"])\n",
    "            converged += 1\n",
    "            global sol = state[1]\n",
    "            break\n",
    "        end\n",
    "    end\n",
    "    \n",
    "    if debug\n",
    "        pretty_table(reshape(sol,size(parameters[\"images\"][1],1),size(parameters[\"images\"][1],1)))\n",
    "        print(\"Number converged: $(converged) \\n Ratio Converged: $(converged/parameters[\"iterations\"])\")\n",
    "    end\n",
    "    \n",
    "end\n",
    "\n",
    "    "
   ]
  },
  {
   "cell_type": "code",
   "execution_count": 34,
   "id": "d4ab517d-ad1d-4252-b582-1edcc35d0b49",
   "metadata": {},
   "outputs": [
    {
     "name": "stdout",
     "output_type": "stream",
     "text": [
      "┌────────┬────────┬────────┬────────┬────────┐\n",
      "│\u001b[1m Col. 1 \u001b[0m│\u001b[1m Col. 2 \u001b[0m│\u001b[1m Col. 3 \u001b[0m│\u001b[1m Col. 4 \u001b[0m│\u001b[1m Col. 5 \u001b[0m│\n",
      "├────────┼────────┼────────┼────────┼────────┤\n",
      "│      1 │      1 │     -1 │      1 │      1 │\n",
      "│      1 │     -1 │     -1 │     -1 │      1 │\n",
      "│     -1 │     -1 │     -1 │     -1 │     -1 │\n",
      "│      1 │     -1 │     -1 │     -1 │      1 │\n",
      "│      1 │      1 │     -1 │      1 │      1 │\n",
      "└────────┴────────┴────────┴────────┴────────┘\n",
      "Number converged: 1 \n",
      " Ratio Converged: 1.0"
     ]
    }
   ],
   "source": [
    "HN_Solver(parameters, true)"
   ]
  },
  {
   "cell_type": "code",
   "execution_count": 42,
   "id": "57abaa18-4d30-4a3f-b722-72c623ed577f",
   "metadata": {},
   "outputs": [
    {
     "data": {
      "text/plain": [
       "HN_Solver_Traj (generic function with 2 methods)"
      ]
     },
     "execution_count": 42,
     "metadata": {},
     "output_type": "execute_result"
    }
   ],
   "source": [
    "function HN_Solver_Traj(parameters::Dict{String, Any}, debug::Bool = false)\n",
    "    # Just gets raw result, no visualizer\n",
    "\n",
    "    scaling = parameters[\"scaling\"] #Scaling coeff\n",
    "    S = parameters[\"images\"] # Images\n",
    "    time_total= parameters[\"sim_time\"] # how long the sim is\n",
    "    num_steps = parameters[\"steps\"] # number of steps in the sim\n",
    "    delta_t = parameters[\"delta\"] # dt\n",
    "    traj_collection::Vector{Vector{Dice.Hybrid}} = []\n",
    "\n",
    "    # Make Graph\n",
    "    graph_set = get_HN_graph(S, scaling)\n",
    "    \n",
    "    # Making model\n",
    "    model = Dice.Model(graph_set, Dice.model_2_hybrid_coupling, delta_t)\n",
    "\n",
    "    # Making randomized initial state\n",
    "    num_vertices = Graphs.nv(model.graph)\n",
    "    \n",
    "    converged = 0\n",
    "    diverged = 0\n",
    "\n",
    "\n",
    "    pinned::Vector{Tuple{Int64, Int8}} = []\n",
    "    state::Dice.Hybrid = Dice.get_random_hybrid(num_vertices, 2.0)\n",
    "    #println(reshape(state[1],size(parameters[\"images\"][1],1),size(parameters[\"images\"][1],1)))\n",
    "    for stim in parameters[\"initial_stimuli\"]\n",
    "        # Every n entries is a column, thus taking # of columns and subtracting 1 brings you to where the column begins\n",
    "        # Adding 1 will bring you to the first entry in the column and so on for +k\n",
    "        pos = (stim[2]-1) * size(parameters[\"images\"][1],1) + stim[1]\n",
    "        state[1][pos] = stim[3]\n",
    "        push!(pinned, (pos, stim[3]))\n",
    "    end\n",
    "    #println(state[1]\n",
    "    traj = Dice.trajectories_pinned(model.graph, num_steps, delta_t, model.coupling, state, pinned)\n",
    "    push!(traj_collection, traj)\n",
    "    # Comment out the other part of the or conditional to ignore negative images\n",
    " #=   if (reshape(state[1],size(parameters[\"images\"][1],1),size(parameters[\"images\"][1],1)) in parameters[\"images\"] ||\n",
    "        -1 .*reshape(state[1],size(parameters[\"images\"][1],1),size(parameters[\"images\"][1],1)) in parameters[\"images\"])\n",
    "        converged += 1\n",
    "        global sol = state[1]\n",
    "        break\n",
    "    end =#\n",
    "\n",
    "    \n",
    "    if debug\n",
    "        pretty_table(reshape(traj[end][1],size(parameters[\"images\"][1],1),size(parameters[\"images\"][1],1)))\n",
    "    end\n",
    "    return((state,traj_collection))\n",
    "end    "
   ]
  },
  {
   "cell_type": "code",
   "execution_count": 43,
   "id": "d8451ac7-57a0-47e1-bde6-98637dd9dd0a",
   "metadata": {},
   "outputs": [
    {
     "name": "stdout",
     "output_type": "stream",
     "text": [
      "┌────────┬────────┬────────┬────────┬────────┐\n",
      "│\u001b[1m Col. 1 \u001b[0m│\u001b[1m Col. 2 \u001b[0m│\u001b[1m Col. 3 \u001b[0m│\u001b[1m Col. 4 \u001b[0m│\u001b[1m Col. 5 \u001b[0m│\n",
      "├────────┼────────┼────────┼────────┼────────┤\n",
      "│     -1 │      1 │      1 │      1 │     -1 │\n",
      "│      1 │     -1 │      1 │     -1 │      1 │\n",
      "│      1 │      1 │     -1 │      1 │      1 │\n",
      "│      1 │     -1 │      1 │     -1 │      1 │\n",
      "│     -1 │      1 │      1 │      1 │     -1 │\n",
      "└────────┴────────┴────────┴────────┴────────┘\n",
      "File test_1_yes.dat is generated\n"
     ]
    }
   ],
   "source": [
    "res = HN_Solver_Traj(parameters, true);\n",
    "save_trajectories(res[2], \"test\", \"yes\")"
   ]
  },
  {
   "cell_type": "code",
   "execution_count": null,
   "id": "19c42614-32e3-4f2d-8adf-9af9cb79ddef",
   "metadata": {},
   "outputs": [],
   "source": []
  }
 ],
 "metadata": {
  "kernelspec": {
   "display_name": "Julia 1.11.6",
   "language": "julia",
   "name": "julia-1.11"
  },
  "language_info": {
   "file_extension": ".jl",
   "mimetype": "application/julia",
   "name": "julia",
   "version": "1.11.6"
  }
 },
 "nbformat": 4,
 "nbformat_minor": 5
}
